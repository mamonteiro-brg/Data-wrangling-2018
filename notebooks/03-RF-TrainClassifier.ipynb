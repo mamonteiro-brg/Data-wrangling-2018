{
 "cells": [
  {
   "cell_type": "code",
   "execution_count": 18,
   "metadata": {},
   "outputs": [],
   "source": [
    "%load_ext autoreload"
   ]
  },
  {
   "cell_type": "code",
   "execution_count": 173,
   "metadata": {},
   "outputs": [],
   "source": [
    "import pandas as pd\n",
    "from sklearn.ensemble import RandomForestClassifier\n",
    "%autoreload 2\n",
    "from utils import join_target_api,join_to_sql,prepare_dataset\n",
    "% matplotlib inline \n",
    "from sklearn.model_selection import train_test_split\n",
    "from sklearn.metrics import roc_auc_score"
   ]
  },
  {
   "cell_type": "code",
   "execution_count": 197,
   "metadata": {},
   "outputs": [],
   "source": [
    "api_data = pd.read_csv('../data/api_data_clean.csv',index_col='sk_id_curr')"
   ]
  },
  {
   "cell_type": "code",
   "execution_count": 198,
   "metadata": {},
   "outputs": [],
   "source": [
    "sql_data = pd.read_csv('../data/processed/full_sql.csv',index_col='SK_ID_CURR')\n",
    "sql_data = sql_data.drop(columns='TARGET')"
   ]
  },
  {
   "cell_type": "code",
   "execution_count": 199,
   "metadata": {},
   "outputs": [],
   "source": [
    "train_target = pd.read_csv('../data/processed/train_target.csv',index_col='SK_ID_CURR')"
   ]
  },
  {
   "cell_type": "code",
   "execution_count": 200,
   "metadata": {},
   "outputs": [],
   "source": [
    "test_target = pd.read_csv('../data/processed/test_target.csv',index_col='SK_ID_CURR')"
   ]
  },
  {
   "cell_type": "code",
   "execution_count": 201,
   "metadata": {},
   "outputs": [],
   "source": [
    "train = join_target_api(train_target,api_data)\n",
    "test = join_target_api(test_target,api_data)"
   ]
  },
  {
   "cell_type": "code",
   "execution_count": 202,
   "metadata": {},
   "outputs": [
    {
     "data": {
      "text/html": [
       "<div>\n",
       "<style scoped>\n",
       "    .dataframe tbody tr th:only-of-type {\n",
       "        vertical-align: middle;\n",
       "    }\n",
       "\n",
       "    .dataframe tbody tr th {\n",
       "        vertical-align: top;\n",
       "    }\n",
       "\n",
       "    .dataframe thead th {\n",
       "        text-align: right;\n",
       "    }\n",
       "</style>\n",
       "<table border=\"1\" class=\"dataframe\">\n",
       "  <thead>\n",
       "    <tr style=\"text-align: right;\">\n",
       "      <th></th>\n",
       "      <th>TARGET</th>\n",
       "      <th>days_birth</th>\n",
       "      <th>flag_document_13</th>\n",
       "      <th>flag_document_9</th>\n",
       "      <th>name_education_type</th>\n",
       "      <th>name_income_type</th>\n",
       "      <th>obs_30_cnt_social_circle</th>\n",
       "      <th>DEF_60_CNT_SOCIAL_CIRCLE</th>\n",
       "      <th>DAYS_LAST_PHONE_CHANGE</th>\n",
       "      <th>BASEMENTAREA_AVG</th>\n",
       "      <th>ENTRANCES_AVG</th>\n",
       "      <th>FLAG_DOCUMENT_20</th>\n",
       "      <th>FONDKAPREMONT_MODE</th>\n",
       "      <th>CNT_CHILDREN</th>\n",
       "      <th>FLAG_DOCUMENT_15</th>\n",
       "      <th>FLAG_EMAIL</th>\n",
       "      <th>OWN_CAR_AGE</th>\n",
       "    </tr>\n",
       "    <tr>\n",
       "      <th>SK_ID_CURR</th>\n",
       "      <th></th>\n",
       "      <th></th>\n",
       "      <th></th>\n",
       "      <th></th>\n",
       "      <th></th>\n",
       "      <th></th>\n",
       "      <th></th>\n",
       "      <th></th>\n",
       "      <th></th>\n",
       "      <th></th>\n",
       "      <th></th>\n",
       "      <th></th>\n",
       "      <th></th>\n",
       "      <th></th>\n",
       "      <th></th>\n",
       "      <th></th>\n",
       "      <th></th>\n",
       "    </tr>\n",
       "  </thead>\n",
       "  <tbody>\n",
       "    <tr>\n",
       "      <th>100006</th>\n",
       "      <td>0.0</td>\n",
       "      <td>-19005</td>\n",
       "      <td>False</td>\n",
       "      <td>False</td>\n",
       "      <td>Secondary / secondary special</td>\n",
       "      <td>Working</td>\n",
       "      <td>2</td>\n",
       "      <td>0.0</td>\n",
       "      <td>-617.0</td>\n",
       "      <td>NaN</td>\n",
       "      <td>NaN</td>\n",
       "      <td>0</td>\n",
       "      <td>NaN</td>\n",
       "      <td>0</td>\n",
       "      <td>0</td>\n",
       "      <td>0</td>\n",
       "      <td>NaN</td>\n",
       "    </tr>\n",
       "    <tr>\n",
       "      <th>100014</th>\n",
       "      <td>0.0</td>\n",
       "      <td>-10197</td>\n",
       "      <td>False</td>\n",
       "      <td>False</td>\n",
       "      <td>Higher education</td>\n",
       "      <td>Working</td>\n",
       "      <td>0</td>\n",
       "      <td>0.0</td>\n",
       "      <td>-844.0</td>\n",
       "      <td>NaN</td>\n",
       "      <td>NaN</td>\n",
       "      <td>0</td>\n",
       "      <td>NaN</td>\n",
       "      <td>1</td>\n",
       "      <td>0</td>\n",
       "      <td>0</td>\n",
       "      <td>NaN</td>\n",
       "    </tr>\n",
       "    <tr>\n",
       "      <th>100015</th>\n",
       "      <td>0.0</td>\n",
       "      <td>-20417</td>\n",
       "      <td>False</td>\n",
       "      <td>False</td>\n",
       "      <td>Secondary / secondary special</td>\n",
       "      <td>Pensioner</td>\n",
       "      <td>0</td>\n",
       "      <td>0.0</td>\n",
       "      <td>-2396.0</td>\n",
       "      <td>NaN</td>\n",
       "      <td>NaN</td>\n",
       "      <td>0</td>\n",
       "      <td>NaN</td>\n",
       "      <td>0</td>\n",
       "      <td>0</td>\n",
       "      <td>0</td>\n",
       "      <td>NaN</td>\n",
       "    </tr>\n",
       "    <tr>\n",
       "      <th>100017</th>\n",
       "      <td>0.0</td>\n",
       "      <td>-14086</td>\n",
       "      <td>False</td>\n",
       "      <td>False</td>\n",
       "      <td>Secondary / secondary special</td>\n",
       "      <td>Working</td>\n",
       "      <td>0</td>\n",
       "      <td>0.0</td>\n",
       "      <td>-4.0</td>\n",
       "      <td>0.0973</td>\n",
       "      <td>0.1379</td>\n",
       "      <td>0</td>\n",
       "      <td>reg oper account</td>\n",
       "      <td>1</td>\n",
       "      <td>0</td>\n",
       "      <td>0</td>\n",
       "      <td>23.0</td>\n",
       "    </tr>\n",
       "    <tr>\n",
       "      <th>100018</th>\n",
       "      <td>0.0</td>\n",
       "      <td>-14583</td>\n",
       "      <td>False</td>\n",
       "      <td>False</td>\n",
       "      <td>Secondary / secondary special</td>\n",
       "      <td>Working</td>\n",
       "      <td>0</td>\n",
       "      <td>0.0</td>\n",
       "      <td>-188.0</td>\n",
       "      <td>0.1335</td>\n",
       "      <td>0.1724</td>\n",
       "      <td>0</td>\n",
       "      <td>reg oper account</td>\n",
       "      <td>0</td>\n",
       "      <td>0</td>\n",
       "      <td>0</td>\n",
       "      <td>NaN</td>\n",
       "    </tr>\n",
       "  </tbody>\n",
       "</table>\n",
       "</div>"
      ],
      "text/plain": [
       "            TARGET  days_birth  flag_document_13  flag_document_9  \\\n",
       "SK_ID_CURR                                                          \n",
       "100006         0.0      -19005             False            False   \n",
       "100014         0.0      -10197             False            False   \n",
       "100015         0.0      -20417             False            False   \n",
       "100017         0.0      -14086             False            False   \n",
       "100018         0.0      -14583             False            False   \n",
       "\n",
       "                      name_education_type name_income_type  \\\n",
       "SK_ID_CURR                                                   \n",
       "100006      Secondary / secondary special          Working   \n",
       "100014                   Higher education          Working   \n",
       "100015      Secondary / secondary special        Pensioner   \n",
       "100017      Secondary / secondary special          Working   \n",
       "100018      Secondary / secondary special          Working   \n",
       "\n",
       "            obs_30_cnt_social_circle  DEF_60_CNT_SOCIAL_CIRCLE  \\\n",
       "SK_ID_CURR                                                       \n",
       "100006                             2                       0.0   \n",
       "100014                             0                       0.0   \n",
       "100015                             0                       0.0   \n",
       "100017                             0                       0.0   \n",
       "100018                             0                       0.0   \n",
       "\n",
       "            DAYS_LAST_PHONE_CHANGE  BASEMENTAREA_AVG  ENTRANCES_AVG  \\\n",
       "SK_ID_CURR                                                            \n",
       "100006                      -617.0               NaN            NaN   \n",
       "100014                      -844.0               NaN            NaN   \n",
       "100015                     -2396.0               NaN            NaN   \n",
       "100017                        -4.0            0.0973         0.1379   \n",
       "100018                      -188.0            0.1335         0.1724   \n",
       "\n",
       "            FLAG_DOCUMENT_20 FONDKAPREMONT_MODE  CNT_CHILDREN  \\\n",
       "SK_ID_CURR                                                      \n",
       "100006                     0                NaN             0   \n",
       "100014                     0                NaN             1   \n",
       "100015                     0                NaN             0   \n",
       "100017                     0   reg oper account             1   \n",
       "100018                     0   reg oper account             0   \n",
       "\n",
       "            FLAG_DOCUMENT_15  FLAG_EMAIL  OWN_CAR_AGE  \n",
       "SK_ID_CURR                                             \n",
       "100006                     0           0          NaN  \n",
       "100014                     0           0          NaN  \n",
       "100015                     0           0          NaN  \n",
       "100017                     0           0         23.0  \n",
       "100018                     0           0          NaN  "
      ]
     },
     "execution_count": 202,
     "metadata": {},
     "output_type": "execute_result"
    }
   ],
   "source": [
    "train = join_to_sql(train,sql_data)\n",
    "test = join_to_sql(test,sql_data)\n",
    "train.head()"
   ]
  },
  {
   "cell_type": "code",
   "execution_count": 203,
   "metadata": {},
   "outputs": [],
   "source": [
    "train = prepare_dataset(train)\n",
    "test = prepare_dataset(test)"
   ]
  },
  {
   "cell_type": "code",
   "execution_count": 204,
   "metadata": {},
   "outputs": [
    {
     "data": {
      "text/plain": [
       "TARGET                      float64\n",
       "days_birth                    int64\n",
       "flag_document_13              int64\n",
       "flag_document_9               int64\n",
       "obs_30_cnt_social_circle      int64\n",
       "DAYS_LAST_PHONE_CHANGE      float64\n",
       "FLAG_DOCUMENT_20              int64\n",
       "CNT_CHILDREN                  int64\n",
       "FLAG_DOCUMENT_15              int64\n",
       "FLAG_EMAIL                    int64\n",
       "dtype: object"
      ]
     },
     "execution_count": 204,
     "metadata": {},
     "output_type": "execute_result"
    }
   ],
   "source": [
    "train.dtypes"
   ]
  },
  {
   "cell_type": "code",
   "execution_count": 205,
   "metadata": {},
   "outputs": [],
   "source": [
    "x_train,x_test,y_train,y_test = train_test_split(train.drop(columns='TARGET'),\n",
    "                                                 train['TARGET'],\n",
    "                                                 random_state = 0\n",
    "                                                )"
   ]
  },
  {
   "cell_type": "code",
   "execution_count": 206,
   "metadata": {},
   "outputs": [],
   "source": [
    "clf = RandomForestClassifier(n_estimators=100)"
   ]
  },
  {
   "cell_type": "code",
   "execution_count": 207,
   "metadata": {},
   "outputs": [
    {
     "data": {
      "text/plain": [
       "RandomForestClassifier(bootstrap=True, class_weight=None, criterion='gini',\n",
       "            max_depth=None, max_features='auto', max_leaf_nodes=None,\n",
       "            min_impurity_decrease=0.0, min_impurity_split=None,\n",
       "            min_samples_leaf=1, min_samples_split=2,\n",
       "            min_weight_fraction_leaf=0.0, n_estimators=100, n_jobs=1,\n",
       "            oob_score=False, random_state=None, verbose=0,\n",
       "            warm_start=False)"
      ]
     },
     "execution_count": 207,
     "metadata": {},
     "output_type": "execute_result"
    }
   ],
   "source": [
    "clf.fit(x_train,y_train)"
   ]
  },
  {
   "cell_type": "code",
   "execution_count": 209,
   "metadata": {},
   "outputs": [],
   "source": [
    "results = clf.predict_proba(x_test)[:,1]"
   ]
  },
  {
   "cell_type": "code",
   "execution_count": 210,
   "metadata": {},
   "outputs": [
    {
     "data": {
      "text/plain": [
       "0.5386190603925921"
      ]
     },
     "execution_count": 210,
     "metadata": {},
     "output_type": "execute_result"
    }
   ],
   "source": [
    "roc_auc_score(y_test,results)"
   ]
  },
  {
   "cell_type": "code",
   "execution_count": 214,
   "metadata": {},
   "outputs": [],
   "source": [
    "results_test = clf.predict_proba(test.drop(columns=['TARGET']))[:,1]"
   ]
  },
  {
   "cell_type": "code",
   "execution_count": 212,
   "metadata": {},
   "outputs": [
    {
     "ename": "AttributeError",
     "evalue": "'numpy.ndarray' object has no attribute 'head'",
     "output_type": "error",
     "traceback": [
      "\u001b[0;31m---------------------------------------------------------------------------\u001b[0m",
      "\u001b[0;31mAttributeError\u001b[0m                            Traceback (most recent call last)",
      "\u001b[0;32m<ipython-input-212-bf2367152f47>\u001b[0m in \u001b[0;36m<module>\u001b[0;34m()\u001b[0m\n\u001b[0;32m----> 1\u001b[0;31m \u001b[0mresults_test\u001b[0m\u001b[0;34m.\u001b[0m\u001b[0mhead\u001b[0m\u001b[0;34m(\u001b[0m\u001b[0;34m)\u001b[0m\u001b[0;34m\u001b[0m\u001b[0m\n\u001b[0m",
      "\u001b[0;31mAttributeError\u001b[0m: 'numpy.ndarray' object has no attribute 'head'"
     ]
    }
   ],
   "source": []
  },
  {
   "cell_type": "code",
   "execution_count": 215,
   "metadata": {},
   "outputs": [],
   "source": [
    "test['prob'] = results_test"
   ]
  },
  {
   "cell_type": "code",
   "execution_count": 219,
   "metadata": {},
   "outputs": [],
   "source": [
    "test['prob'].to_csv('first_submission.csv')"
   ]
  },
  {
   "cell_type": "code",
   "execution_count": null,
   "metadata": {},
   "outputs": [],
   "source": []
  }
 ],
 "metadata": {
  "kernelspec": {
   "display_name": "Python 3",
   "language": "python",
   "name": "python3"
  },
  "language_info": {
   "codemirror_mode": {
    "name": "ipython",
    "version": 3
   },
   "file_extension": ".py",
   "mimetype": "text/x-python",
   "name": "python",
   "nbconvert_exporter": "python",
   "pygments_lexer": "ipython3",
   "version": "3.6.4"
  }
 },
 "nbformat": 4,
 "nbformat_minor": 2
}
