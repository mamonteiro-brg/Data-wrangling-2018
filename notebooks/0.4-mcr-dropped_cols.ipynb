{
 "cells": [
  {
   "cell_type": "markdown",
   "metadata": {},
   "source": [
    "## Dropped Columns"
   ]
  },
  {
   "cell_type": "code",
   "execution_count": 132,
   "metadata": {},
   "outputs": [],
   "source": [
    "import pandas as pd\n",
    "import re\n",
    "\n",
    "%matplotlib inline"
   ]
  },
  {
   "cell_type": "code",
   "execution_count": 133,
   "metadata": {},
   "outputs": [],
   "source": [
    "low_count = ['AMT_REQ_CREDIT_BUREAU_DAY_y', 'APARTMENTS_MODE_y', \n",
    "             'FLOORSMAX_MEDI_y', 'NAME_TYPE_SUITE_y', 'NONLIVINGAREA_MEDI_y']\n",
    "    # These have not so many nans but a lot for the target variable\n",
    "not_so_many= ['EXT_SOURCE_3','YEARS_BEGINEXPLUATATION_AVG_y','FLOORSMAX_AVG_y']\n"
   ]
  },
  {
   "cell_type": "code",
   "execution_count": 134,
   "metadata": {},
   "outputs": [
    {
     "name": "stderr",
     "output_type": "stream",
     "text": [
      "/usr/local/lib/python3.6/site-packages/IPython/core/interactiveshell.py:2785: DtypeWarning: Columns (22,23,24,32,33,34,44,46,59,64,116) have mixed types. Specify dtype option on import or set low_memory=False.\n",
      "  interactivity=interactivity, compiler=compiler, result=result)\n"
     ]
    }
   ],
   "source": [
    "csvs = pd.read_csv('../data/master.csv', index_col='SK_ID_CURR').drop(columns='Unnamed: 0') \n",
    "sql = pd.read_csv('../data/processed/full_sql.csv', index_col='SK_ID_CURR')\n",
    "api = pd.read_csv('../data/api_data_clean.csv', index_col='sk_id_curr')"
   ]
  },
  {
   "cell_type": "code",
   "execution_count": 135,
   "metadata": {},
   "outputs": [],
   "source": [
    "temp_1 = pd.merge(sql, csvs, how='left', right_index=True, left_index=True)"
   ]
  },
  {
   "cell_type": "code",
   "execution_count": 136,
   "metadata": {},
   "outputs": [],
   "source": [
    "master = pd.merge(temp_1, api, how='left', right_index=True, left_index=True)"
   ]
  },
  {
   "cell_type": "code",
   "execution_count": 137,
   "metadata": {},
   "outputs": [
    {
     "data": {
      "text/html": [
       "<div>\n",
       "<style scoped>\n",
       "    .dataframe tbody tr th:only-of-type {\n",
       "        vertical-align: middle;\n",
       "    }\n",
       "\n",
       "    .dataframe tbody tr th {\n",
       "        vertical-align: top;\n",
       "    }\n",
       "\n",
       "    .dataframe thead th {\n",
       "        text-align: right;\n",
       "    }\n",
       "</style>\n",
       "<table border=\"1\" class=\"dataframe\">\n",
       "  <thead>\n",
       "    <tr style=\"text-align: right;\">\n",
       "      <th></th>\n",
       "      <th>EXT_SOURCE_3</th>\n",
       "    </tr>\n",
       "  </thead>\n",
       "  <tbody>\n",
       "    <tr>\n",
       "      <th>count</th>\n",
       "      <td>80352.000000</td>\n",
       "    </tr>\n",
       "    <tr>\n",
       "      <th>mean</th>\n",
       "      <td>0.510923</td>\n",
       "    </tr>\n",
       "    <tr>\n",
       "      <th>std</th>\n",
       "      <td>0.195237</td>\n",
       "    </tr>\n",
       "    <tr>\n",
       "      <th>min</th>\n",
       "      <td>0.000527</td>\n",
       "    </tr>\n",
       "    <tr>\n",
       "      <th>25%</th>\n",
       "      <td>0.370650</td>\n",
       "    </tr>\n",
       "    <tr>\n",
       "      <th>50%</th>\n",
       "      <td>0.537070</td>\n",
       "    </tr>\n",
       "    <tr>\n",
       "      <th>75%</th>\n",
       "      <td>0.669057</td>\n",
       "    </tr>\n",
       "    <tr>\n",
       "      <th>max</th>\n",
       "      <td>0.896010</td>\n",
       "    </tr>\n",
       "  </tbody>\n",
       "</table>\n",
       "</div>"
      ],
      "text/plain": [
       "       EXT_SOURCE_3\n",
       "count  80352.000000\n",
       "mean       0.510923\n",
       "std        0.195237\n",
       "min        0.000527\n",
       "25%        0.370650\n",
       "50%        0.537070\n",
       "75%        0.669057\n",
       "max        0.896010"
      ]
     },
     "execution_count": 137,
     "metadata": {},
     "output_type": "execute_result"
    }
   ],
   "source": [
    "master[['EXT_SOURCE_3']].describe()"
   ]
  },
  {
   "cell_type": "code",
   "execution_count": 138,
   "metadata": {},
   "outputs": [
    {
     "name": "stdout",
     "output_type": "stream",
     "text": [
      "TARGET\n",
      "DEF_60_CNT_SOCIAL_CIRCLE\n",
      "DAYS_LAST_PHONE_CHANGE\n",
      "BASEMENTAREA_AVG\n",
      "ENTRANCES_AVG\n",
      "FLAG_DOCUMENT_20\n",
      "FONDKAPREMONT_MODE\n",
      "CNT_CHILDREN\n",
      "FLAG_DOCUMENT_15\n",
      "FLAG_EMAIL\n",
      "OWN_CAR_AGE\n",
      "TOTALAREA_MODE\n",
      "FLOORSMIN_AVG\n",
      "FLOORSMIN_MODE\n",
      "ORGANIZATION_TYPE\n",
      "NONLIVINGAREA_AVG\n",
      "HOUSETYPE_MODE\n",
      "LANDAREA_AVG\n",
      "DAYS_ID_PUBLISH\n",
      "ELEVATORS_AVG\n",
      "COMMONAREA_MODE\n",
      "FLAG_DOCUMENT_21\n",
      "FLAG_PHONE\n",
      "YEARS_BUILD_AVG\n",
      "COMMONAREA_AVG\n",
      "LIVE_CITY_NOT_WORK_CITY\n",
      "REG_CITY_NOT_LIVE_CITY\n",
      "LIVINGAPARTMENTS_MEDI\n",
      "FLAG_DOCUMENT_10\n",
      "FLAG_DOCUMENT_17\n",
      "AMT_GOODS_PRICE\n",
      "WEEKDAY_APPR_PROCESS_START_x\n",
      "WALLSMATERIAL_MODE_x\n",
      "FLAG_OWN_CAR_x\n",
      "AMT_REQ_CREDIT_BUREAU_HOUR_x\n",
      "FLAG_DOCUMENT_11_x\n",
      "REGION_POPULATION_RELATIVE_x\n",
      "NONLIVINGAPARTMENTS_AVG_x\n",
      "DAYS_EMPLOYED_x\n",
      "CNT_FAM_MEMBERS_x\n",
      "FLAG_DOCUMENT_16_x\n",
      "WEEKDAY_APPR_PROCESS_START_y\n",
      "WALLSMATERIAL_MODE_y\n",
      "FLAG_OWN_CAR_y\n",
      "AMT_REQ_CREDIT_BUREAU_HOUR_y\n",
      "FLAG_DOCUMENT_11_y\n",
      "REGION_POPULATION_RELATIVE_y\n",
      "NONLIVINGAPARTMENTS_AVG_y\n",
      "DAYS_EMPLOYED_y\n",
      "CNT_FAM_MEMBERS_y\n",
      "FLAG_DOCUMENT_16_y\n",
      "LIVE_REGION_NOT_WORK_REGION\n",
      "REG_REGION_NOT_LIVE_REGION\n",
      "NAME_HOUSING_TYPE\n",
      "FLAG_DOCUMENT_2\n",
      "NAME_CONTRACT_TYPE\n",
      "APARTMENTS_MODE_x\n",
      "FLAG_DOCUMENT_6_x\n",
      "FLAG_OWN_REALTY_x\n",
      "NONLIVINGAREA_MEDI_x\n",
      "FLAG_DOCUMENT_3_x\n",
      "FLAG_DOCUMENT_4_x\n",
      "FLAG_DOCUMENT_18_x\n",
      "NAME_TYPE_SUITE_x\n",
      "FLOORSMAX_MEDI_x\n",
      "AMT_REQ_CREDIT_BUREAU_DAY_x\n",
      "APARTMENTS_MODE_y\n",
      "FLAG_DOCUMENT_6_y\n",
      "FLAG_OWN_REALTY_y\n",
      "NONLIVINGAREA_MEDI_y\n",
      "FLAG_DOCUMENT_3_y\n",
      "FLAG_DOCUMENT_4_y\n",
      "FLAG_DOCUMENT_18_y\n",
      "NAME_TYPE_SUITE_y\n",
      "FLOORSMAX_MEDI_y\n",
      "AMT_REQ_CREDIT_BUREAU_DAY_y\n",
      "FLAG_DOCUMENT_7_x\n",
      "AMT_CREDIT_x\n",
      "DEF_30_CNT_SOCIAL_CIRCLE_x\n",
      "AMT_INCOME_TOTAL_x\n",
      "LIVINGAPARTMENTS_AVG_x\n",
      "FLAG_DOCUMENT_8_x\n",
      "REG_REGION_NOT_WORK_REGION_x\n",
      "OBS_60_CNT_SOCIAL_CIRCLE_x\n",
      "YEARS_BEGINEXPLUATATION_AVG_x\n",
      "FLOORSMAX_AVG_x\n",
      "FLAG_DOCUMENT_7_y\n",
      "AMT_CREDIT_y\n",
      "DEF_30_CNT_SOCIAL_CIRCLE_y\n",
      "AMT_INCOME_TOTAL_y\n",
      "LIVINGAPARTMENTS_AVG_y\n",
      "FLAG_DOCUMENT_8_y\n",
      "REG_REGION_NOT_WORK_REGION_y\n",
      "OBS_60_CNT_SOCIAL_CIRCLE_y\n",
      "YEARS_BEGINEXPLUATATION_AVG_y\n",
      "FLOORSMAX_AVG_y\n",
      "REGION_RATING_CLIENT_W_CITY\n",
      "EXT_SOURCE_1\n",
      "DAYS_REGISTRATION\n",
      "EXT_SOURCE_3\n",
      "LIVINGAREA_MEDI\n",
      "HOUR_APPR_PROCESS_START\n",
      "FLOORSMIN_MEDI\n",
      "FLAG_DOCUMENT_14\n",
      "OCCUPATION_TYPE\n",
      "LANDAREA_MEDI\n",
      "REGION_RATING_CLIENT_W_CITY.1\n",
      "EXT_SOURCE_1.1\n",
      "DAYS_REGISTRATION.1\n",
      "EXT_SOURCE_3.1\n",
      "LIVINGAREA_MEDI.1\n",
      "HOUR_APPR_PROCESS_START.1\n",
      "FLOORSMIN_MEDI.1\n",
      "FLAG_DOCUMENT_14.1\n",
      "OCCUPATION_TYPE.1\n",
      "LANDAREA_MEDI.1\n",
      "AMT_ANNUITY\n",
      "CODE_GENDER\n",
      "EXT_SOURCE_2\n",
      "FLAG_DOCUMENT_5\n",
      "FLAG_EMP_PHONE\n",
      "FLAG_WORK_PHONE\n",
      "IS_KAEL\n",
      "LIVINGAREA_AVG\n",
      "NAME_FAMILY_STATUS\n",
      "REGION_RATING_CLIENT\n",
      "REG_CITY_NOT_WORK_CITY\n",
      "ORGANIZATION_TYPE_CAT\n",
      "days_birth\n",
      "flag_document_13\n",
      "flag_document_9\n",
      "name_education_type\n",
      "name_income_type\n",
      "obs_30_cnt_social_circle\n"
     ]
    }
   ],
   "source": [
    "a = []\n",
    "for col in master.columns:\n",
    "    print(col)\n",
    "    a.append(col)"
   ]
  },
  {
   "cell_type": "code",
   "execution_count": 139,
   "metadata": {},
   "outputs": [],
   "source": [
    "df = pd.read_csv('../data/processed/master_2.csv', index_col=0)"
   ]
  },
  {
   "cell_type": "code",
   "execution_count": 140,
   "metadata": {},
   "outputs": [
    {
     "data": {
      "text/plain": [
       "Index(['AMT_ANNUITY', 'AMT_CREDIT', 'AMT_GOODS_PRICE', 'AMT_INCOME_TOTAL',\n",
       "       'CNT_CHILDREN', 'CODE_GENDER_M', 'DAYS_ID_PUBLISH',\n",
       "       'DAYS_LAST_PHONE_CHANGE', 'DAYS_REGISTRATION',\n",
       "       'DEF_30_CNT_SOCIAL_CIRCLE', 'DEF_60_CNT_SOCIAL_CIRCLE', 'EXT_SOURCE_2',\n",
       "       'FLAG_DOCUMENT_10', 'FLAG_DOCUMENT_14', 'FLAG_DOCUMENT_15',\n",
       "       'FLAG_DOCUMENT_17', 'FLAG_DOCUMENT_18_x', 'FLAG_DOCUMENT_20',\n",
       "       'FLAG_DOCUMENT_21', 'FLAG_DOCUMENT_3_x', 'FLAG_DOCUMENT_4_x',\n",
       "       'FLAG_DOCUMENT_5', 'FLAG_DOCUMENT_6_x', 'FLAG_DOCUMENT_7',\n",
       "       'FLAG_DOCUMENT_8', 'FLAG_EMAIL', 'FLAG_EMP_PHONE', 'FLAG_OWN_REALTY_x',\n",
       "       'FLAG_PHONE', 'FLAG_WORK_PHONE', 'HOUR_APPR_PROCESS_START',\n",
       "       'LIVE_CITY_NOT_WORK_CITY', 'LIVINGAREA_AVG',\n",
       "       'NAME_FAMILY_STATUS_Married', 'NAME_FAMILY_STATUS_Separated',\n",
       "       'NAME_FAMILY_STATUS_Single / not married', 'NAME_FAMILY_STATUS_Unknown',\n",
       "       'NAME_FAMILY_STATUS_Widow', 'NAME_TYPE_SUITE_x_Children',\n",
       "       'NAME_TYPE_SUITE_x_Family', 'NAME_TYPE_SUITE_x_Group of people',\n",
       "       'NAME_TYPE_SUITE_x_Other_B', 'NAME_TYPE_SUITE_x_Spouse, partner',\n",
       "       'NAME_TYPE_SUITE_x_Unaccompanied', 'NAME_TYPE_SUITE_x_�Q��',\n",
       "       'OBS_60_CNT_SOCIAL_CIRCLE', 'REGION_RATING_CLIENT',\n",
       "       'REGION_RATING_CLIENT_W_CITY', 'REG_CITY_NOT_LIVE_CITY',\n",
       "       'REG_CITY_NOT_WORK_CITY', 'TARGET', 'days_birth', 'flag_document_13',\n",
       "       'flag_document_9', 'name_education_type_Higher education',\n",
       "       'name_education_type_Incomplete higher',\n",
       "       'name_education_type_Lower secondary',\n",
       "       'name_education_type_Secondary / secondary special',\n",
       "       'name_income_type_Maternity leave', 'name_income_type_Pensioner',\n",
       "       'name_income_type_State servant', 'name_income_type_Student',\n",
       "       'name_income_type_Unemployed', 'name_income_type_Working',\n",
       "       'obs_30_cnt_social_circle'],\n",
       "      dtype='object')"
      ]
     },
     "execution_count": 140,
     "metadata": {},
     "output_type": "execute_result"
    }
   ],
   "source": [
    "df.columns.sort_values()"
   ]
  },
  {
   "cell_type": "markdown",
   "metadata": {},
   "source": [
    "## EXT SOURCE "
   ]
  },
  {
   "cell_type": "code",
   "execution_count": 141,
   "metadata": {},
   "outputs": [],
   "source": [
    "master['EXT_SOURCE_2'] = pd.to_numeric(master['EXT_SOURCE_2'].apply(lambda x: x.split('%')[0]), errors='coerce') / 100"
   ]
  },
  {
   "cell_type": "code",
   "execution_count": 142,
   "metadata": {},
   "outputs": [],
   "source": [
    "master['EXT_SOURCE'] = master[['EXT_SOURCE_1', 'EXT_SOURCE_2', 'EXT_SOURCE_3']].mean(axis=1)"
   ]
  },
  {
   "cell_type": "code",
   "execution_count": 143,
   "metadata": {},
   "outputs": [],
   "source": [
    "master['EXT_SOURCE'] = master['EXT_SOURCE'].fillna(master['EXT_SOURCE'].mean())"
   ]
  },
  {
   "cell_type": "code",
   "execution_count": 144,
   "metadata": {},
   "outputs": [],
   "source": [
    "df['EXT_SOURCE'] = master['EXT_SOURCE']"
   ]
  },
  {
   "cell_type": "code",
   "execution_count": 145,
   "metadata": {},
   "outputs": [],
   "source": [
    "df = df.drop(columns='EXT_SOURCE_2')"
   ]
  },
  {
   "cell_type": "markdown",
   "metadata": {},
   "source": [
    "## Flags"
   ]
  },
  {
   "cell_type": "code",
   "execution_count": 146,
   "metadata": {},
   "outputs": [],
   "source": [
    "flags = []\n",
    "pattern = re.compile(\"FLAG|flag\")\n",
    "for col in df.columns:\n",
    "    if pattern.search(col):\n",
    "        flags.append(col)"
   ]
  },
  {
   "cell_type": "code",
   "execution_count": 147,
   "metadata": {},
   "outputs": [],
   "source": [
    "df['total_flags'] = df[flags].sum(axis=1) ** 2"
   ]
  },
  {
   "cell_type": "code",
   "execution_count": 148,
   "metadata": {},
   "outputs": [],
   "source": [
    "df.to_csv('../data/processed/master_3.csv')"
   ]
  },
  {
   "cell_type": "code",
   "execution_count": 149,
   "metadata": {},
   "outputs": [
    {
     "data": {
      "text/html": [
       "<div>\n",
       "<style scoped>\n",
       "    .dataframe tbody tr th:only-of-type {\n",
       "        vertical-align: middle;\n",
       "    }\n",
       "\n",
       "    .dataframe tbody tr th {\n",
       "        vertical-align: top;\n",
       "    }\n",
       "\n",
       "    .dataframe thead th {\n",
       "        text-align: right;\n",
       "    }\n",
       "</style>\n",
       "<table border=\"1\" class=\"dataframe\">\n",
       "  <thead>\n",
       "    <tr style=\"text-align: right;\">\n",
       "      <th></th>\n",
       "      <th>TARGET</th>\n",
       "      <th>DEF_60_CNT_SOCIAL_CIRCLE</th>\n",
       "      <th>DAYS_LAST_PHONE_CHANGE</th>\n",
       "      <th>FLAG_DOCUMENT_20</th>\n",
       "      <th>CNT_CHILDREN</th>\n",
       "      <th>FLAG_DOCUMENT_15</th>\n",
       "      <th>FLAG_EMAIL</th>\n",
       "      <th>DAYS_ID_PUBLISH</th>\n",
       "      <th>FLAG_DOCUMENT_21</th>\n",
       "      <th>FLAG_PHONE</th>\n",
       "      <th>...</th>\n",
       "      <th>name_education_type_Lower secondary</th>\n",
       "      <th>name_education_type_Secondary / secondary special</th>\n",
       "      <th>name_income_type_Maternity leave</th>\n",
       "      <th>name_income_type_Pensioner</th>\n",
       "      <th>name_income_type_State servant</th>\n",
       "      <th>name_income_type_Student</th>\n",
       "      <th>name_income_type_Unemployed</th>\n",
       "      <th>name_income_type_Working</th>\n",
       "      <th>EXT_SOURCE</th>\n",
       "      <th>total_flags</th>\n",
       "    </tr>\n",
       "    <tr>\n",
       "      <th>SK_ID_CURR</th>\n",
       "      <th></th>\n",
       "      <th></th>\n",
       "      <th></th>\n",
       "      <th></th>\n",
       "      <th></th>\n",
       "      <th></th>\n",
       "      <th></th>\n",
       "      <th></th>\n",
       "      <th></th>\n",
       "      <th></th>\n",
       "      <th></th>\n",
       "      <th></th>\n",
       "      <th></th>\n",
       "      <th></th>\n",
       "      <th></th>\n",
       "      <th></th>\n",
       "      <th></th>\n",
       "      <th></th>\n",
       "      <th></th>\n",
       "      <th></th>\n",
       "      <th></th>\n",
       "    </tr>\n",
       "  </thead>\n",
       "  <tbody>\n",
       "    <tr>\n",
       "      <th>100004</th>\n",
       "      <td>NaN</td>\n",
       "      <td>0.0</td>\n",
       "      <td>-815.0</td>\n",
       "      <td>0</td>\n",
       "      <td>0</td>\n",
       "      <td>0</td>\n",
       "      <td>0</td>\n",
       "      <td>-2531</td>\n",
       "      <td>0</td>\n",
       "      <td>1</td>\n",
       "      <td>...</td>\n",
       "      <td>0</td>\n",
       "      <td>1</td>\n",
       "      <td>0</td>\n",
       "      <td>0</td>\n",
       "      <td>0</td>\n",
       "      <td>0</td>\n",
       "      <td>0</td>\n",
       "      <td>1</td>\n",
       "      <td>0.642733</td>\n",
       "      <td>16</td>\n",
       "    </tr>\n",
       "    <tr>\n",
       "      <th>100006</th>\n",
       "      <td>0.0</td>\n",
       "      <td>0.0</td>\n",
       "      <td>-617.0</td>\n",
       "      <td>0</td>\n",
       "      <td>0</td>\n",
       "      <td>0</td>\n",
       "      <td>0</td>\n",
       "      <td>-2437</td>\n",
       "      <td>0</td>\n",
       "      <td>0</td>\n",
       "      <td>...</td>\n",
       "      <td>0</td>\n",
       "      <td>1</td>\n",
       "      <td>0</td>\n",
       "      <td>0</td>\n",
       "      <td>0</td>\n",
       "      <td>0</td>\n",
       "      <td>0</td>\n",
       "      <td>1</td>\n",
       "      <td>0.650400</td>\n",
       "      <td>9</td>\n",
       "    </tr>\n",
       "    <tr>\n",
       "      <th>100012</th>\n",
       "      <td>NaN</td>\n",
       "      <td>0.0</td>\n",
       "      <td>-1673.0</td>\n",
       "      <td>0</td>\n",
       "      <td>0</td>\n",
       "      <td>0</td>\n",
       "      <td>0</td>\n",
       "      <td>-3992</td>\n",
       "      <td>0</td>\n",
       "      <td>0</td>\n",
       "      <td>...</td>\n",
       "      <td>0</td>\n",
       "      <td>1</td>\n",
       "      <td>0</td>\n",
       "      <td>0</td>\n",
       "      <td>0</td>\n",
       "      <td>0</td>\n",
       "      <td>0</td>\n",
       "      <td>1</td>\n",
       "      <td>0.746600</td>\n",
       "      <td>4</td>\n",
       "    </tr>\n",
       "    <tr>\n",
       "      <th>100014</th>\n",
       "      <td>0.0</td>\n",
       "      <td>0.0</td>\n",
       "      <td>-844.0</td>\n",
       "      <td>0</td>\n",
       "      <td>1</td>\n",
       "      <td>0</td>\n",
       "      <td>0</td>\n",
       "      <td>-738</td>\n",
       "      <td>0</td>\n",
       "      <td>0</td>\n",
       "      <td>...</td>\n",
       "      <td>0</td>\n",
       "      <td>0</td>\n",
       "      <td>0</td>\n",
       "      <td>0</td>\n",
       "      <td>0</td>\n",
       "      <td>0</td>\n",
       "      <td>0</td>\n",
       "      <td>1</td>\n",
       "      <td>0.445202</td>\n",
       "      <td>9</td>\n",
       "    </tr>\n",
       "    <tr>\n",
       "      <th>100015</th>\n",
       "      <td>0.0</td>\n",
       "      <td>0.0</td>\n",
       "      <td>-2396.0</td>\n",
       "      <td>0</td>\n",
       "      <td>0</td>\n",
       "      <td>0</td>\n",
       "      <td>0</td>\n",
       "      <td>-2512</td>\n",
       "      <td>0</td>\n",
       "      <td>1</td>\n",
       "      <td>...</td>\n",
       "      <td>0</td>\n",
       "      <td>1</td>\n",
       "      <td>0</td>\n",
       "      <td>1</td>\n",
       "      <td>0</td>\n",
       "      <td>0</td>\n",
       "      <td>0</td>\n",
       "      <td>0</td>\n",
       "      <td>0.643380</td>\n",
       "      <td>9</td>\n",
       "    </tr>\n",
       "  </tbody>\n",
       "</table>\n",
       "<p>5 rows × 66 columns</p>\n",
       "</div>"
      ],
      "text/plain": [
       "            TARGET  DEF_60_CNT_SOCIAL_CIRCLE  DAYS_LAST_PHONE_CHANGE  \\\n",
       "SK_ID_CURR                                                             \n",
       "100004         NaN                       0.0                  -815.0   \n",
       "100006         0.0                       0.0                  -617.0   \n",
       "100012         NaN                       0.0                 -1673.0   \n",
       "100014         0.0                       0.0                  -844.0   \n",
       "100015         0.0                       0.0                 -2396.0   \n",
       "\n",
       "            FLAG_DOCUMENT_20  CNT_CHILDREN  FLAG_DOCUMENT_15  FLAG_EMAIL  \\\n",
       "SK_ID_CURR                                                                 \n",
       "100004                     0             0                 0           0   \n",
       "100006                     0             0                 0           0   \n",
       "100012                     0             0                 0           0   \n",
       "100014                     0             1                 0           0   \n",
       "100015                     0             0                 0           0   \n",
       "\n",
       "            DAYS_ID_PUBLISH  FLAG_DOCUMENT_21  FLAG_PHONE     ...       \\\n",
       "SK_ID_CURR                                                    ...        \n",
       "100004                -2531                 0           1     ...        \n",
       "100006                -2437                 0           0     ...        \n",
       "100012                -3992                 0           0     ...        \n",
       "100014                 -738                 0           0     ...        \n",
       "100015                -2512                 0           1     ...        \n",
       "\n",
       "            name_education_type_Lower secondary  \\\n",
       "SK_ID_CURR                                        \n",
       "100004                                        0   \n",
       "100006                                        0   \n",
       "100012                                        0   \n",
       "100014                                        0   \n",
       "100015                                        0   \n",
       "\n",
       "            name_education_type_Secondary / secondary special  \\\n",
       "SK_ID_CURR                                                      \n",
       "100004                                                      1   \n",
       "100006                                                      1   \n",
       "100012                                                      1   \n",
       "100014                                                      0   \n",
       "100015                                                      1   \n",
       "\n",
       "            name_income_type_Maternity leave  name_income_type_Pensioner  \\\n",
       "SK_ID_CURR                                                                 \n",
       "100004                                     0                           0   \n",
       "100006                                     0                           0   \n",
       "100012                                     0                           0   \n",
       "100014                                     0                           0   \n",
       "100015                                     0                           1   \n",
       "\n",
       "            name_income_type_State servant  name_income_type_Student  \\\n",
       "SK_ID_CURR                                                             \n",
       "100004                                   0                         0   \n",
       "100006                                   0                         0   \n",
       "100012                                   0                         0   \n",
       "100014                                   0                         0   \n",
       "100015                                   0                         0   \n",
       "\n",
       "            name_income_type_Unemployed  name_income_type_Working  EXT_SOURCE  \\\n",
       "SK_ID_CURR                                                                      \n",
       "100004                                0                         1    0.642733   \n",
       "100006                                0                         1    0.650400   \n",
       "100012                                0                         1    0.746600   \n",
       "100014                                0                         1    0.445202   \n",
       "100015                                0                         0    0.643380   \n",
       "\n",
       "            total_flags  \n",
       "SK_ID_CURR               \n",
       "100004               16  \n",
       "100006                9  \n",
       "100012                4  \n",
       "100014                9  \n",
       "100015                9  \n",
       "\n",
       "[5 rows x 66 columns]"
      ]
     },
     "execution_count": 149,
     "metadata": {},
     "output_type": "execute_result"
    }
   ],
   "source": [
    "df.head()"
   ]
  },
  {
   "cell_type": "code",
   "execution_count": null,
   "metadata": {},
   "outputs": [],
   "source": []
  },
  {
   "cell_type": "markdown",
   "metadata": {},
   "source": [
    "## Part 4\n"
   ]
  },
  {
   "cell_type": "code",
   "execution_count": 150,
   "metadata": {},
   "outputs": [],
   "source": [
    "df = df.drop(columns=['DEF_30_CNT_SOCIAL_CIRCLE', 'obs_30_cnt_social_circle'])"
   ]
  },
  {
   "cell_type": "code",
   "execution_count": 151,
   "metadata": {},
   "outputs": [],
   "source": [
    "df['SOCIAL'] = df['DEF_60_CNT_SOCIAL_CIRCLE'].multiply(df['OBS_60_CNT_SOCIAL_CIRCLE'])"
   ]
  },
  {
   "cell_type": "markdown",
   "metadata": {},
   "source": [
    "## Moar"
   ]
  },
  {
   "cell_type": "code",
   "execution_count": 159,
   "metadata": {},
   "outputs": [
    {
     "data": {
      "text/plain": [
       "50032"
      ]
     },
     "execution_count": 159,
     "metadata": {},
     "output_type": "execute_result"
    }
   ],
   "source": [
    "df['LIVINGAREA_AVG'].apply(lambda x: None if x == -99999 else x).isnull().sum()"
   ]
  },
  {
   "cell_type": "code",
   "execution_count": 160,
   "metadata": {},
   "outputs": [],
   "source": [
    "df = df.drop(columns=['LIVINGAREA_AVG'])"
   ]
  },
  {
   "cell_type": "code",
   "execution_count": 164,
   "metadata": {},
   "outputs": [],
   "source": [
    "df['income_perc'] = df['AMT_ANNUITY'] / df['AMT_INCOME_TOTAL']"
   ]
  },
  {
   "cell_type": "code",
   "execution_count": 165,
   "metadata": {},
   "outputs": [
    {
     "data": {
      "text/plain": [
       "SK_ID_CURR\n",
       "100004    0.100000\n",
       "100006    0.219900\n",
       "100012    0.150000\n",
       "100014    0.188240\n",
       "100015    0.277947\n",
       "100017    0.128740\n",
       "100018    0.173429\n",
       "100019    0.128000\n",
       "100030    0.123050\n",
       "100032    0.211800\n",
       "100034    0.100000\n",
       "100035    0.084077\n",
       "100040    0.243667\n",
       "100043    0.116955\n",
       "100045    0.175136\n",
       "100048    0.144178\n",
       "100049    0.120433\n",
       "100051    0.238422\n",
       "100055    0.285483\n",
       "100058    0.125000\n",
       "100059    0.064067\n",
       "100060    0.191647\n",
       "100062    0.400889\n",
       "100063    0.253100\n",
       "100069    0.075737\n",
       "100071    0.483275\n",
       "100078    0.244350\n",
       "100086    0.161300\n",
       "100088    0.060000\n",
       "100098    0.060000\n",
       "            ...   \n",
       "456184    0.150633\n",
       "456187    0.123729\n",
       "456195    0.159524\n",
       "456196    0.088889\n",
       "456198    0.218200\n",
       "456199    0.063671\n",
       "456205    0.184775\n",
       "456207    0.136364\n",
       "456210    0.114550\n",
       "456211    0.286880\n",
       "456213    0.227100\n",
       "456214    0.170400\n",
       "456215    0.325062\n",
       "456217    0.106787\n",
       "456219    0.281160\n",
       "456227    0.166455\n",
       "456228    0.065958\n",
       "456233    0.102620\n",
       "456234    0.112944\n",
       "456235    0.350250\n",
       "456236    0.074262\n",
       "456237    0.279100\n",
       "456239    0.132075\n",
       "456242    0.263477\n",
       "456244    0.137862\n",
       "456245    0.146556\n",
       "456246    0.112381\n",
       "456249    0.196000\n",
       "456252    0.166687\n",
       "456253    0.195941\n",
       "Name: income_perc, Length: 100000, dtype: float64"
      ]
     },
     "execution_count": 165,
     "metadata": {},
     "output_type": "execute_result"
    }
   ],
   "source": [
    "df['income_perc']"
   ]
  },
  {
   "cell_type": "code",
   "execution_count": null,
   "metadata": {},
   "outputs": [],
   "source": []
  },
  {
   "cell_type": "code",
   "execution_count": null,
   "metadata": {},
   "outputs": [],
   "source": []
  },
  {
   "cell_type": "code",
   "execution_count": null,
   "metadata": {},
   "outputs": [],
   "source": []
  },
  {
   "cell_type": "code",
   "execution_count": null,
   "metadata": {},
   "outputs": [],
   "source": [
    "df.to_csv('../data/processed/master_4.csv')"
   ]
  }
 ],
 "metadata": {
  "kernelspec": {
   "display_name": "Python 3",
   "language": "python",
   "name": "python3"
  },
  "language_info": {
   "codemirror_mode": {
    "name": "ipython",
    "version": 3
   },
   "file_extension": ".py",
   "mimetype": "text/x-python",
   "name": "python",
   "nbconvert_exporter": "python",
   "pygments_lexer": "ipython3",
   "version": "3.6.5"
  }
 },
 "nbformat": 4,
 "nbformat_minor": 2
}
