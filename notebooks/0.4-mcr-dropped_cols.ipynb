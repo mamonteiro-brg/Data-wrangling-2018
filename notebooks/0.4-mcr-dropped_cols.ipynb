{
 "cells": [
  {
   "cell_type": "markdown",
   "metadata": {},
   "source": [
    "## Dropped Columns"
   ]
  },
  {
   "cell_type": "code",
   "execution_count": 1,
   "metadata": {},
   "outputs": [],
   "source": [
    "import pandas as pd\n",
    "import re\n",
    "\n",
    "%matplotlib inline"
   ]
  },
  {
   "cell_type": "code",
   "execution_count": 37,
   "metadata": {},
   "outputs": [],
   "source": [
    "low_count = ['AMT_REQ_CREDIT_BUREAU_DAY_y', 'APARTMENTS_MODE_y', \n",
    "             'FLOORSMAX_MEDI_y', 'NAME_TYPE_SUITE_y', 'NONLIVINGAREA_MEDI_y']\n",
    "    # These have not so many nans but a lot for the target variable\n",
    "not_so_many= ['EXT_SOURCE_3','YEARS_BEGINEXPLUATATION_AVG_y','FLOORSMAX_AVG_y']\n"
   ]
  },
  {
   "cell_type": "code",
   "execution_count": 38,
   "metadata": {},
   "outputs": [
    {
     "name": "stderr",
     "output_type": "stream",
     "text": [
      "/usr/local/lib/python3.6/site-packages/IPython/core/interactiveshell.py:2785: DtypeWarning: Columns (22,23,24,32,33,34,44,46,59,64,116) have mixed types. Specify dtype option on import or set low_memory=False.\n",
      "  interactivity=interactivity, compiler=compiler, result=result)\n"
     ]
    }
   ],
   "source": [
    "csvs = pd.read_csv('../data/master.csv', index_col='SK_ID_CURR').drop(columns='Unnamed: 0') \n",
    "sql = pd.read_csv('../data/processed/full_sql.csv', index_col='SK_ID_CURR')\n",
    "api = pd.read_csv('../data/api_data_clean.csv', index_col='sk_id_curr')"
   ]
  },
  {
   "cell_type": "code",
   "execution_count": 39,
   "metadata": {},
   "outputs": [],
   "source": [
    "temp_1 = pd.merge(sql, csvs, how='left', right_index=True, left_index=True)"
   ]
  },
  {
   "cell_type": "code",
   "execution_count": 40,
   "metadata": {},
   "outputs": [],
   "source": [
    "master = pd.merge(temp_1, api, how='left', right_index=True, left_index=True)"
   ]
  },
  {
   "cell_type": "code",
   "execution_count": 41,
   "metadata": {},
   "outputs": [
    {
     "data": {
      "text/html": [
       "<div>\n",
       "<style scoped>\n",
       "    .dataframe tbody tr th:only-of-type {\n",
       "        vertical-align: middle;\n",
       "    }\n",
       "\n",
       "    .dataframe tbody tr th {\n",
       "        vertical-align: top;\n",
       "    }\n",
       "\n",
       "    .dataframe thead th {\n",
       "        text-align: right;\n",
       "    }\n",
       "</style>\n",
       "<table border=\"1\" class=\"dataframe\">\n",
       "  <thead>\n",
       "    <tr style=\"text-align: right;\">\n",
       "      <th></th>\n",
       "      <th>EXT_SOURCE_3</th>\n",
       "    </tr>\n",
       "  </thead>\n",
       "  <tbody>\n",
       "    <tr>\n",
       "      <th>count</th>\n",
       "      <td>80352.000000</td>\n",
       "    </tr>\n",
       "    <tr>\n",
       "      <th>mean</th>\n",
       "      <td>0.510923</td>\n",
       "    </tr>\n",
       "    <tr>\n",
       "      <th>std</th>\n",
       "      <td>0.195237</td>\n",
       "    </tr>\n",
       "    <tr>\n",
       "      <th>min</th>\n",
       "      <td>0.000527</td>\n",
       "    </tr>\n",
       "    <tr>\n",
       "      <th>25%</th>\n",
       "      <td>0.370650</td>\n",
       "    </tr>\n",
       "    <tr>\n",
       "      <th>50%</th>\n",
       "      <td>0.537070</td>\n",
       "    </tr>\n",
       "    <tr>\n",
       "      <th>75%</th>\n",
       "      <td>0.669057</td>\n",
       "    </tr>\n",
       "    <tr>\n",
       "      <th>max</th>\n",
       "      <td>0.896010</td>\n",
       "    </tr>\n",
       "  </tbody>\n",
       "</table>\n",
       "</div>"
      ],
      "text/plain": [
       "       EXT_SOURCE_3\n",
       "count  80352.000000\n",
       "mean       0.510923\n",
       "std        0.195237\n",
       "min        0.000527\n",
       "25%        0.370650\n",
       "50%        0.537070\n",
       "75%        0.669057\n",
       "max        0.896010"
      ]
     },
     "execution_count": 41,
     "metadata": {},
     "output_type": "execute_result"
    }
   ],
   "source": [
    "master[['EXT_SOURCE_3']].describe()"
   ]
  },
  {
   "cell_type": "code",
   "execution_count": 18,
   "metadata": {},
   "outputs": [
    {
     "name": "stdout",
     "output_type": "stream",
     "text": [
      "TARGET\n",
      "DEF_60_CNT_SOCIAL_CIRCLE\n",
      "DAYS_LAST_PHONE_CHANGE\n",
      "BASEMENTAREA_AVG\n",
      "ENTRANCES_AVG\n",
      "FLAG_DOCUMENT_20\n",
      "FONDKAPREMONT_MODE\n",
      "CNT_CHILDREN\n",
      "FLAG_DOCUMENT_15\n",
      "FLAG_EMAIL\n",
      "OWN_CAR_AGE\n",
      "TOTALAREA_MODE\n",
      "FLOORSMIN_AVG\n",
      "FLOORSMIN_MODE\n",
      "ORGANIZATION_TYPE\n",
      "NONLIVINGAREA_AVG\n",
      "HOUSETYPE_MODE\n",
      "LANDAREA_AVG\n",
      "DAYS_ID_PUBLISH\n",
      "ELEVATORS_AVG\n",
      "COMMONAREA_MODE\n",
      "FLAG_DOCUMENT_21\n",
      "FLAG_PHONE\n",
      "YEARS_BUILD_AVG\n",
      "COMMONAREA_AVG\n",
      "LIVE_CITY_NOT_WORK_CITY\n",
      "REG_CITY_NOT_LIVE_CITY\n",
      "LIVINGAPARTMENTS_MEDI\n",
      "FLAG_DOCUMENT_10\n",
      "FLAG_DOCUMENT_17\n",
      "AMT_GOODS_PRICE\n",
      "WEEKDAY_APPR_PROCESS_START_x\n",
      "WALLSMATERIAL_MODE_x\n",
      "FLAG_OWN_CAR_x\n",
      "AMT_REQ_CREDIT_BUREAU_HOUR_x\n",
      "FLAG_DOCUMENT_11_x\n",
      "REGION_POPULATION_RELATIVE_x\n",
      "NONLIVINGAPARTMENTS_AVG_x\n",
      "DAYS_EMPLOYED_x\n",
      "CNT_FAM_MEMBERS_x\n",
      "FLAG_DOCUMENT_16_x\n",
      "WEEKDAY_APPR_PROCESS_START_y\n",
      "WALLSMATERIAL_MODE_y\n",
      "FLAG_OWN_CAR_y\n",
      "AMT_REQ_CREDIT_BUREAU_HOUR_y\n",
      "FLAG_DOCUMENT_11_y\n",
      "REGION_POPULATION_RELATIVE_y\n",
      "NONLIVINGAPARTMENTS_AVG_y\n",
      "DAYS_EMPLOYED_y\n",
      "CNT_FAM_MEMBERS_y\n",
      "FLAG_DOCUMENT_16_y\n",
      "LIVE_REGION_NOT_WORK_REGION\n",
      "REG_REGION_NOT_LIVE_REGION\n",
      "NAME_HOUSING_TYPE\n",
      "FLAG_DOCUMENT_2\n",
      "NAME_CONTRACT_TYPE\n",
      "APARTMENTS_MODE_x\n",
      "FLAG_DOCUMENT_6_x\n",
      "FLAG_OWN_REALTY_x\n",
      "NONLIVINGAREA_MEDI_x\n",
      "FLAG_DOCUMENT_3_x\n",
      "FLAG_DOCUMENT_4_x\n",
      "FLAG_DOCUMENT_18_x\n",
      "NAME_TYPE_SUITE_x\n",
      "FLOORSMAX_MEDI_x\n",
      "AMT_REQ_CREDIT_BUREAU_DAY_x\n",
      "APARTMENTS_MODE_y\n",
      "FLAG_DOCUMENT_6_y\n",
      "FLAG_OWN_REALTY_y\n",
      "NONLIVINGAREA_MEDI_y\n",
      "FLAG_DOCUMENT_3_y\n",
      "FLAG_DOCUMENT_4_y\n",
      "FLAG_DOCUMENT_18_y\n",
      "NAME_TYPE_SUITE_y\n",
      "FLOORSMAX_MEDI_y\n",
      "AMT_REQ_CREDIT_BUREAU_DAY_y\n",
      "FLAG_DOCUMENT_7_x\n",
      "AMT_CREDIT_x\n",
      "DEF_30_CNT_SOCIAL_CIRCLE_x\n",
      "AMT_INCOME_TOTAL_x\n",
      "LIVINGAPARTMENTS_AVG_x\n",
      "FLAG_DOCUMENT_8_x\n",
      "REG_REGION_NOT_WORK_REGION_x\n",
      "OBS_60_CNT_SOCIAL_CIRCLE_x\n",
      "YEARS_BEGINEXPLUATATION_AVG_x\n",
      "FLOORSMAX_AVG_x\n",
      "FLAG_DOCUMENT_7_y\n",
      "AMT_CREDIT_y\n",
      "DEF_30_CNT_SOCIAL_CIRCLE_y\n",
      "AMT_INCOME_TOTAL_y\n",
      "LIVINGAPARTMENTS_AVG_y\n",
      "FLAG_DOCUMENT_8_y\n",
      "REG_REGION_NOT_WORK_REGION_y\n",
      "OBS_60_CNT_SOCIAL_CIRCLE_y\n",
      "YEARS_BEGINEXPLUATATION_AVG_y\n",
      "FLOORSMAX_AVG_y\n",
      "REGION_RATING_CLIENT_W_CITY\n",
      "EXT_SOURCE_1\n",
      "DAYS_REGISTRATION\n",
      "EXT_SOURCE_3\n",
      "LIVINGAREA_MEDI\n",
      "HOUR_APPR_PROCESS_START\n",
      "FLOORSMIN_MEDI\n",
      "FLAG_DOCUMENT_14\n",
      "OCCUPATION_TYPE\n",
      "LANDAREA_MEDI\n",
      "REGION_RATING_CLIENT_W_CITY.1\n",
      "EXT_SOURCE_1.1\n",
      "DAYS_REGISTRATION.1\n",
      "EXT_SOURCE_3.1\n",
      "LIVINGAREA_MEDI.1\n",
      "HOUR_APPR_PROCESS_START.1\n",
      "FLOORSMIN_MEDI.1\n",
      "FLAG_DOCUMENT_14.1\n",
      "OCCUPATION_TYPE.1\n",
      "LANDAREA_MEDI.1\n",
      "AMT_ANNUITY\n",
      "CODE_GENDER\n",
      "EXT_SOURCE_2\n",
      "FLAG_DOCUMENT_5\n",
      "FLAG_EMP_PHONE\n",
      "FLAG_WORK_PHONE\n",
      "IS_KAEL\n",
      "LIVINGAREA_AVG\n",
      "NAME_FAMILY_STATUS\n",
      "REGION_RATING_CLIENT\n",
      "REG_CITY_NOT_WORK_CITY\n",
      "ORGANIZATION_TYPE_CAT\n",
      "days_birth\n",
      "flag_document_13\n",
      "flag_document_9\n",
      "name_education_type\n",
      "name_income_type\n",
      "obs_30_cnt_social_circle\n"
     ]
    }
   ],
   "source": [
    "a = []\n",
    "for col in master.columns:\n",
    "    print(col)\n",
    "    a.append(col)"
   ]
  },
  {
   "cell_type": "code",
   "execution_count": 21,
   "metadata": {},
   "outputs": [],
   "source": [
    "df = pd.read_csv('../data/processed/master_2.csv', index_col=0)"
   ]
  },
  {
   "cell_type": "code",
   "execution_count": 24,
   "metadata": {},
   "outputs": [
    {
     "data": {
      "text/plain": [
       "Index(['AMT_ANNUITY', 'AMT_CREDIT', 'AMT_GOODS_PRICE', 'AMT_INCOME_TOTAL',\n",
       "       'CNT_CHILDREN', 'CODE_GENDER_M', 'DAYS_ID_PUBLISH',\n",
       "       'DAYS_LAST_PHONE_CHANGE', 'DAYS_REGISTRATION',\n",
       "       'DEF_30_CNT_SOCIAL_CIRCLE', 'DEF_60_CNT_SOCIAL_CIRCLE', 'EXT_SOURCE_2',\n",
       "       'FLAG_DOCUMENT_10', 'FLAG_DOCUMENT_14', 'FLAG_DOCUMENT_15',\n",
       "       'FLAG_DOCUMENT_17', 'FLAG_DOCUMENT_18_x', 'FLAG_DOCUMENT_20',\n",
       "       'FLAG_DOCUMENT_21', 'FLAG_DOCUMENT_3_x', 'FLAG_DOCUMENT_4_x',\n",
       "       'FLAG_DOCUMENT_5', 'FLAG_DOCUMENT_6_x', 'FLAG_DOCUMENT_7',\n",
       "       'FLAG_DOCUMENT_8', 'FLAG_EMAIL', 'FLAG_EMP_PHONE', 'FLAG_OWN_REALTY_x',\n",
       "       'FLAG_PHONE', 'FLAG_WORK_PHONE', 'HOUR_APPR_PROCESS_START',\n",
       "       'LIVE_CITY_NOT_WORK_CITY', 'LIVINGAREA_AVG',\n",
       "       'NAME_FAMILY_STATUS_Married', 'NAME_FAMILY_STATUS_Separated',\n",
       "       'NAME_FAMILY_STATUS_Single / not married', 'NAME_FAMILY_STATUS_Unknown',\n",
       "       'NAME_FAMILY_STATUS_Widow', 'NAME_TYPE_SUITE_x_Children',\n",
       "       'NAME_TYPE_SUITE_x_Family', 'NAME_TYPE_SUITE_x_Group of people',\n",
       "       'NAME_TYPE_SUITE_x_Other_B', 'NAME_TYPE_SUITE_x_Spouse, partner',\n",
       "       'NAME_TYPE_SUITE_x_Unaccompanied', 'NAME_TYPE_SUITE_x_�Q��',\n",
       "       'OBS_60_CNT_SOCIAL_CIRCLE', 'REGION_RATING_CLIENT',\n",
       "       'REGION_RATING_CLIENT_W_CITY', 'REG_CITY_NOT_LIVE_CITY',\n",
       "       'REG_CITY_NOT_WORK_CITY', 'TARGET', 'days_birth', 'flag_document_13',\n",
       "       'flag_document_9', 'name_education_type_Higher education',\n",
       "       'name_education_type_Incomplete higher',\n",
       "       'name_education_type_Lower secondary',\n",
       "       'name_education_type_Secondary / secondary special',\n",
       "       'name_income_type_Maternity leave', 'name_income_type_Pensioner',\n",
       "       'name_income_type_State servant', 'name_income_type_Student',\n",
       "       'name_income_type_Unemployed', 'name_income_type_Working',\n",
       "       'obs_30_cnt_social_circle'],\n",
       "      dtype='object')"
      ]
     },
     "execution_count": 24,
     "metadata": {},
     "output_type": "execute_result"
    }
   ],
   "source": [
    "df.columns.sort_values()"
   ]
  },
  {
   "cell_type": "markdown",
   "metadata": {},
   "source": [
    "## EXT SOURCE "
   ]
  },
  {
   "cell_type": "code",
   "execution_count": 42,
   "metadata": {},
   "outputs": [],
   "source": [
    "master['EXT_SOURCE_2'] = pd.to_numeric(master['EXT_SOURCE_2'].apply(lambda x: x.split('%')[0]), errors='coerce') / 100"
   ]
  },
  {
   "cell_type": "code",
   "execution_count": 71,
   "metadata": {},
   "outputs": [],
   "source": [
    "master['EXT_SOURCE'] = master[['EXT_SOURCE_1', 'EXT_SOURCE_2', 'EXT_SOURCE_3']].mean(axis=1)"
   ]
  },
  {
   "cell_type": "code",
   "execution_count": 74,
   "metadata": {},
   "outputs": [],
   "source": [
    "master['EXT_SOURCE'] = master['EXT_SOURCE'].fillna(master['EXT_SOURCE'].mean())"
   ]
  },
  {
   "cell_type": "code",
   "execution_count": 82,
   "metadata": {},
   "outputs": [],
   "source": [
    "df['EXT_SOURCE'] = master['EXT_SOURCE']"
   ]
  },
  {
   "cell_type": "code",
   "execution_count": 86,
   "metadata": {},
   "outputs": [],
   "source": [
    "df = df.drop(columns='EXT_SOURCE_2')"
   ]
  },
  {
   "cell_type": "markdown",
   "metadata": {},
   "source": [
    "## Flags"
   ]
  },
  {
   "cell_type": "code",
   "execution_count": 96,
   "metadata": {},
   "outputs": [],
   "source": [
    "flags = []\n",
    "pattern = re.compile(\"FLAG|flag\")\n",
    "for col in df.columns:\n",
    "    if pattern.search(col):\n",
    "        flags.append(col)"
   ]
  },
  {
   "cell_type": "code",
   "execution_count": 101,
   "metadata": {},
   "outputs": [
    {
     "data": {
      "text/plain": [
       "SK_ID_CURR\n",
       "100004    4\n",
       "100006    3\n",
       "100012    2\n",
       "100014    3\n",
       "100015    3\n",
       "100017    2\n",
       "100018    3\n",
       "100019    3\n",
       "100030    4\n",
       "100032    3\n",
       "100034    2\n",
       "100035    4\n",
       "100040    3\n",
       "100043    5\n",
       "100045    3\n",
       "100048    4\n",
       "100049    4\n",
       "100051    4\n",
       "100055    4\n",
       "100058    4\n",
       "100059    4\n",
       "100060    3\n",
       "100062    2\n",
       "100063    5\n",
       "100069    3\n",
       "100071    3\n",
       "100078    3\n",
       "100086    3\n",
       "100088    1\n",
       "100098    1\n",
       "         ..\n",
       "456184    2\n",
       "456187    3\n",
       "456195    5\n",
       "456196    2\n",
       "456198    3\n",
       "456199    4\n",
       "456205    2\n",
       "456207    2\n",
       "456210    5\n",
       "456211    3\n",
       "456213    5\n",
       "456214    3\n",
       "456215    3\n",
       "456217    3\n",
       "456219    5\n",
       "456227    2\n",
       "456228    4\n",
       "456233    3\n",
       "456234    4\n",
       "456235    4\n",
       "456236    3\n",
       "456237    3\n",
       "456239    3\n",
       "456242    3\n",
       "456244    4\n",
       "456245    4\n",
       "456246    4\n",
       "456249    3\n",
       "456252    3\n",
       "456253    4\n",
       "Length: 100000, dtype: int64"
      ]
     },
     "execution_count": 101,
     "metadata": {},
     "output_type": "execute_result"
    }
   ],
   "source": []
  },
  {
   "cell_type": "code",
   "execution_count": 104,
   "metadata": {},
   "outputs": [],
   "source": [
    "df['total_flags'] = df[flags].sum(axis=1) ** 2"
   ]
  },
  {
   "cell_type": "code",
   "execution_count": 109,
   "metadata": {},
   "outputs": [],
   "source": [
    "df.to_csv('../data/processed/master_3.csv')"
   ]
  },
  {
   "cell_type": "code",
   "execution_count": null,
   "metadata": {},
   "outputs": [],
   "source": []
  }
 ],
 "metadata": {
  "kernelspec": {
   "display_name": "Python 3",
   "language": "python",
   "name": "python3"
  },
  "language_info": {
   "codemirror_mode": {
    "name": "ipython",
    "version": 3
   },
   "file_extension": ".py",
   "mimetype": "text/x-python",
   "name": "python",
   "nbconvert_exporter": "python",
   "pygments_lexer": "ipython3",
   "version": "3.6.5"
  }
 },
 "nbformat": 4,
 "nbformat_minor": 2
}
