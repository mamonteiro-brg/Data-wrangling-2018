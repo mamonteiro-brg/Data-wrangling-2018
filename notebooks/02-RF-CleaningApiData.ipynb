{
 "cells": [
  {
   "cell_type": "code",
   "execution_count": 15,
   "metadata": {},
   "outputs": [],
   "source": [
    "%load_ext autoreload"
   ]
  },
  {
   "cell_type": "code",
   "execution_count": 30,
   "metadata": {},
   "outputs": [],
   "source": [
    "import pandas as pd\n",
    "%autoreload 2\n",
    "from utils import clean_api_df\n",
    "% matplotlib inline "
   ]
  },
  {
   "cell_type": "code",
   "execution_count": 36,
   "metadata": {},
   "outputs": [],
   "source": [
    "df = pd.read_csv('../data/api_data.csv')\n",
    "columns_to_drop = ['flag_document_12','Unnamed: 0',\n",
    "                   'amt_req_credit_bureau_qrt','apartments_avg',\n",
    "                   'emergencystate_mode']\n",
    "df = clean_api_df(df,drop_columns=columns_to_drop)"
   ]
  },
  {
   "cell_type": "code",
   "execution_count": 37,
   "metadata": {},
   "outputs": [
    {
     "data": {
      "text/plain": [
       "days_birth                   16975\n",
       "flag_document_13                 2\n",
       "flag_document_9                  2\n",
       "name_education_type              5\n",
       "name_income_type                 7\n",
       "obs_30_cnt_social_circle        27\n",
       "sk_id_curr                  100000\n",
       "dtype: int64"
      ]
     },
     "execution_count": 37,
     "metadata": {},
     "output_type": "execute_result"
    }
   ],
   "source": [
    "df.nunique()"
   ]
  },
  {
   "cell_type": "code",
   "execution_count": 38,
   "metadata": {},
   "outputs": [
    {
     "data": {
      "text/plain": [
       "days_birth                  0\n",
       "flag_document_13            0\n",
       "flag_document_9             0\n",
       "name_education_type         0\n",
       "name_income_type            0\n",
       "obs_30_cnt_social_circle    0\n",
       "sk_id_curr                  0\n",
       "dtype: int64"
      ]
     },
     "execution_count": 38,
     "metadata": {},
     "output_type": "execute_result"
    }
   ],
   "source": [
    "df.isnull().sum()"
   ]
  },
  {
   "cell_type": "code",
   "execution_count": 39,
   "metadata": {},
   "outputs": [
    {
     "data": {
      "text/html": [
       "<div>\n",
       "<style scoped>\n",
       "    .dataframe tbody tr th:only-of-type {\n",
       "        vertical-align: middle;\n",
       "    }\n",
       "\n",
       "    .dataframe tbody tr th {\n",
       "        vertical-align: top;\n",
       "    }\n",
       "\n",
       "    .dataframe thead th {\n",
       "        text-align: right;\n",
       "    }\n",
       "</style>\n",
       "<table border=\"1\" class=\"dataframe\">\n",
       "  <thead>\n",
       "    <tr style=\"text-align: right;\">\n",
       "      <th></th>\n",
       "      <th>days_birth</th>\n",
       "      <th>flag_document_13</th>\n",
       "      <th>flag_document_9</th>\n",
       "      <th>name_education_type</th>\n",
       "      <th>name_income_type</th>\n",
       "      <th>obs_30_cnt_social_circle</th>\n",
       "      <th>sk_id_curr</th>\n",
       "    </tr>\n",
       "  </thead>\n",
       "  <tbody>\n",
       "    <tr>\n",
       "      <th>0</th>\n",
       "      <td>-19046</td>\n",
       "      <td>False</td>\n",
       "      <td>False</td>\n",
       "      <td>Secondary / secondary special</td>\n",
       "      <td>Working</td>\n",
       "      <td>0</td>\n",
       "      <td>100004</td>\n",
       "    </tr>\n",
       "    <tr>\n",
       "      <th>1</th>\n",
       "      <td>-19005</td>\n",
       "      <td>False</td>\n",
       "      <td>False</td>\n",
       "      <td>Secondary / secondary special</td>\n",
       "      <td>Working</td>\n",
       "      <td>2</td>\n",
       "      <td>100006</td>\n",
       "    </tr>\n",
       "    <tr>\n",
       "      <th>2</th>\n",
       "      <td>-14469</td>\n",
       "      <td>False</td>\n",
       "      <td>False</td>\n",
       "      <td>Secondary / secondary special</td>\n",
       "      <td>Working</td>\n",
       "      <td>2</td>\n",
       "      <td>100012</td>\n",
       "    </tr>\n",
       "    <tr>\n",
       "      <th>3</th>\n",
       "      <td>-10197</td>\n",
       "      <td>False</td>\n",
       "      <td>False</td>\n",
       "      <td>Higher education</td>\n",
       "      <td>Working</td>\n",
       "      <td>0</td>\n",
       "      <td>100014</td>\n",
       "    </tr>\n",
       "    <tr>\n",
       "      <th>4</th>\n",
       "      <td>-20417</td>\n",
       "      <td>False</td>\n",
       "      <td>False</td>\n",
       "      <td>Secondary / secondary special</td>\n",
       "      <td>Pensioner</td>\n",
       "      <td>0</td>\n",
       "      <td>100015</td>\n",
       "    </tr>\n",
       "  </tbody>\n",
       "</table>\n",
       "</div>"
      ],
      "text/plain": [
       "   days_birth  flag_document_13  flag_document_9  \\\n",
       "0      -19046             False            False   \n",
       "1      -19005             False            False   \n",
       "2      -14469             False            False   \n",
       "3      -10197             False            False   \n",
       "4      -20417             False            False   \n",
       "\n",
       "             name_education_type name_income_type  obs_30_cnt_social_circle  \\\n",
       "0  Secondary / secondary special          Working                         0   \n",
       "1  Secondary / secondary special          Working                         2   \n",
       "2  Secondary / secondary special          Working                         2   \n",
       "3               Higher education          Working                         0   \n",
       "4  Secondary / secondary special        Pensioner                         0   \n",
       "\n",
       "   sk_id_curr  \n",
       "0      100004  \n",
       "1      100006  \n",
       "2      100012  \n",
       "3      100014  \n",
       "4      100015  "
      ]
     },
     "execution_count": 39,
     "metadata": {},
     "output_type": "execute_result"
    }
   ],
   "source": []
  },
  {
   "cell_type": "code",
   "execution_count": 40,
   "metadata": {},
   "outputs": [],
   "source": [
    "df.to_csv('../data/api_data_clean.csv')"
   ]
  },
  {
   "cell_type": "code",
   "execution_count": null,
   "metadata": {},
   "outputs": [],
   "source": []
  }
 ],
 "metadata": {
  "kernelspec": {
   "display_name": "Python 3",
   "language": "python",
   "name": "python3"
  },
  "language_info": {
   "codemirror_mode": {
    "name": "ipython",
    "version": 3
   },
   "file_extension": ".py",
   "mimetype": "text/x-python",
   "name": "python",
   "nbconvert_exporter": "python",
   "pygments_lexer": "ipython3",
   "version": "3.6.4"
  }
 },
 "nbformat": 4,
 "nbformat_minor": 2
}
